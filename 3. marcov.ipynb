{
 "cells": [
  {
   "cell_type": "markdown",
   "id": "09c7d0ac",
   "metadata": {},
   "source": [
    "<img src=\"img/marcov.png\">"
   ]
  },
  {
   "cell_type": "markdown",
   "id": "1a28fa06",
   "metadata": {},
   "source": [
    "Going from state St to state St + 1 requires only state St, not previous states, otherwise it is not a marcov."
   ]
  },
  {
   "cell_type": "markdown",
   "id": "668cfcf1",
   "metadata": {},
   "source": [
    "<img src=\"img/Transition_step.png\">"
   ]
  },
  {
   "cell_type": "markdown",
   "id": "c775795b",
   "metadata": {},
   "source": [
    "## The Reward is not importand in State Transition Function "
   ]
  },
  {
   "cell_type": "markdown",
   "id": "68bc4b07",
   "metadata": {},
   "source": [
    "<img src=\"img/State_Transition_Function.png\">"
   ]
  },
  {
   "cell_type": "markdown",
   "id": "858e171e",
   "metadata": {},
   "source": [
    "# Reward Function"
   ]
  },
  {
   "cell_type": "markdown",
   "id": "ec1d8d2a",
   "metadata": {},
   "source": [
    "<img src=\"img/Reward_Function.png\"> "
   ]
  },
  {
   "cell_type": "code",
   "execution_count": null,
   "id": "2ee78646",
   "metadata": {},
   "outputs": [],
   "source": []
  }
 ],
 "metadata": {
  "kernelspec": {
   "display_name": "Python 3 (ipykernel)",
   "language": "python",
   "name": "python3"
  },
  "language_info": {
   "codemirror_mode": {
    "name": "ipython",
    "version": 3
   },
   "file_extension": ".py",
   "mimetype": "text/x-python",
   "name": "python",
   "nbconvert_exporter": "python",
   "pygments_lexer": "ipython3",
   "version": "3.10.4"
  }
 },
 "nbformat": 4,
 "nbformat_minor": 5
}
