{
 "cells": [
  {
   "cell_type": "markdown",
   "id": "53e70183",
   "metadata": {},
   "source": [
    "# Epsilon Greedy in K-armed Bandit Problem"
   ]
  },
  {
   "cell_type": "code",
   "execution_count": 1,
   "id": "8425b86c",
   "metadata": {},
   "outputs": [],
   "source": [
    "# !pip install matplotlib\n",
    "# !pip install numpy"
   ]
  },
  {
   "cell_type": "code",
   "execution_count": 2,
   "id": "6ec58e50",
   "metadata": {},
   "outputs": [],
   "source": [
    "import matplotlib.pyplot as plt\n",
    "import numpy as np"
   ]
  },
  {
   "cell_type": "markdown",
   "id": "6f8d5e98",
   "metadata": {},
   "source": [
    "# Initialization"
   ]
  },
  {
   "cell_type": "code",
   "execution_count": 3,
   "id": "704363cd",
   "metadata": {},
   "outputs": [],
   "source": [
    "NUM_TRIALS = 2000\n",
    "EPS = 0.1\n",
    "BANDIT_PROBABILITIES = [0.2, 0.5, 0.75]"
   ]
  },
  {
   "cell_type": "markdown",
   "id": "4433be18",
   "metadata": {},
   "source": [
    "# Bandit Model"
   ]
  },
  {
   "cell_type": "code",
   "execution_count": 4,
   "id": "96c271be",
   "metadata": {},
   "outputs": [],
   "source": [
    "class Bandit:\n",
    "    def __init__(self, p):\n",
    "        self.p = p\n",
    "        self.p_estimate = 3.\n",
    "        self.N = 1.\n",
    "    \n",
    "    def pull(self):\n",
    "        # draw a 1 with probability p\n",
    "        return np.random.random() < self.p\n",
    "    \n",
    "    def update(self, x):\n",
    "        self.N += 1.\n",
    "        self.p_estimate = ((self.N - 1) * self.p_estimate + x) / self.N"
   ]
  },
  {
   "cell_type": "code",
   "execution_count": 48,
   "id": "e14ed884",
   "metadata": {},
   "outputs": [],
   "source": [
    "def experiment():\n",
    "    bandits = [Bandit(p) for p in BANDIT_PROBABILITIES]\n",
    "    \n",
    "    rewards = np.zeros(NUM_TRIALS)\n",
    "    num_times_explored = 0\n",
    "    num_times_exploited = 0\n",
    "    num_optimal = 0\n",
    "    optimal_j = np.argmax([bandit.p for bandit in bandits])\n",
    "    print(\"Optimal j:\", optimal_j)\n",
    "    \n",
    "    for i in range(NUM_TRIALS):\n",
    "        j = np.argmax([b.p_estimate for b in bandits])\n",
    "        x = bandits[j].pull()\n",
    "        \n",
    "        # update rewards log\n",
    "        rewards[i] = x\n",
    "        \n",
    "        # update the distribution for the bandit whose arm we just pulled\n",
    "        bandits[j].update(x)\n",
    "        \n",
    "        \n",
    "    for b in bandits:\n",
    "        print(\"mean estimate:\", b.p_estimate)\n",
    "    \n",
    "    print(\"total reward earned:\", rewards.sum())\n",
    "    print(\"overall win rate:\", rewards.sum()/NUM_TRIALS)\n",
    "    print(\"num_times_explored:\", num_times_explored)\n",
    "    print(\"num times selected each bandit:\", [b.N for b in bandits])\n",
    "    \n",
    "    # plot\n",
    "    cumulative_rewards = np.cumsum(rewards)\n",
    "    win_rates = cumulative_rewards / (np.arange(NUM_TRIALS) + 1)\n",
    "    plt.plot(win_rates)\n",
    "    plt.plot(np.ones(NUM_TRIALS) * np.max(BANDIT_PROBABILITIES))\n",
    "    plt.show()\n",
    "            "
   ]
  },
  {
   "cell_type": "code",
   "execution_count": 49,
   "id": "a40dfab7",
   "metadata": {},
   "outputs": [
    {
     "name": "stdout",
     "output_type": "stream",
     "text": [
      "Optimal j: 2\n",
      "mean estimate: 0.6666666666666666\n",
      "mean estimate: 0.6666666666666666\n",
      "mean estimate: 0.7664490205926673\n",
      "total reward earned: 1525.0\n",
      "overall win rate: 0.7625\n",
      "num_times_explored: 0\n",
      "num times selected each bandit: [6.0, 6.0, 1991.0]\n"
     ]
    },
    {
     "data": {
      "image/png": "[encoded data removed]",
      "text/plain": [
       "<Figure size 432x288 with 1 Axes>"
      ]
     },
     "metadata": {
      "needs_background": "light"
     },
     "output_type": "display_data"
    }
   ],
   "source": [
    "experiment()"
   ]
  },
  {
   "cell_type": "markdown",
   "id": "12305d4d",
   "metadata": {},
   "source": [
    "# Resault"
   ]
  },
  {
   "cell_type": "markdown",
   "id": "caa9d2bf",
   "metadata": {},
   "source": [
    "<ul><li>The Final Resault is better than Epsilon Greedy.</li>\n",
    "<li>The best option is further selected and the other two options are selected a total of 12 times. Therefore, the model did not search a part of the model well.</li>\n",
    "</ul>"
   ]
  },
  {
   "cell_type": "code",
   "execution_count": null,
   "id": "a36ac04e",
   "metadata": {},
   "outputs": [],
   "source": []
  },
  {
   "cell_type": "code",
   "execution_count": null,
   "id": "5412d387",
   "metadata": {},
   "outputs": [],
   "source": []
  }
 ],
 "metadata": {
  "kernelspec": {
   "display_name": "Python 3 (ipykernel)",
   "language": "python",
   "name": "python3"
  },
  "language_info": {
   "codemirror_mode": {
    "name": "ipython",
    "version": 3
   },
   "file_extension": ".py",
   "mimetype": "text/x-python",
   "name": "python",
   "nbconvert_exporter": "python",
   "pygments_lexer": "ipython3",
   "version": "3.10.4"
  }
 },
 "nbformat": 4,
 "nbformat_minor": 5
}
